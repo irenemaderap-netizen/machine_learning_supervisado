{
 "cells": [
  {
   "cell_type": "code",
   "execution_count": null,
   "id": "fba41a24",
   "metadata": {},
   "outputs": [],
   "source": []
  },
  {
   "cell_type": "markdown",
   "id": "a2e7e701",
   "metadata": {},
   "source": [
    "PRIMERA PRACTICA EDA"
   ]
  },
  {
   "cell_type": "code",
   "execution_count": null,
   "id": "e918ac1c",
   "metadata": {},
   "outputs": [],
   "source": []
  }
 ],
 "metadata": {
  "language_info": {
   "name": "python"
  }
 },
 "nbformat": 4,
 "nbformat_minor": 5
}
